{
  "nbformat": 4,
  "nbformat_minor": 0,
  "metadata": {
    "colab": {
      "name": "malaria_ML2.ipynb",
      "provenance": []
    },
    "kernelspec": {
      "name": "python3",
      "display_name": "Python 3"
    },
    "language_info": {
      "name": "python"
    }
  },
  "cells": [
    {
      "cell_type": "code",
      "execution_count": 1,
      "metadata": {
        "id": "RbFGMSJswZUI"
      },
      "outputs": [],
      "source": [
        "#data preprocessing\n",
        "import pandas as pd\n",
        "#math operations\n",
        "import numpy as np\n",
        "#machine learning\n",
        "\n",
        "from sklearn.preprocessing import StandardScaler\n",
        "#hyperparameter optimization\n",
        "from sklearn.model_selection import GridSearchCV\n",
        "#support vector machine model\n",
        "from keras import regularizers\n",
        "import matplotlib.pyplot as plt\n",
        "from PIL import Image\n",
        "import numpy as np\n",
        "import os\n",
        "import cv2\n",
        "import keras\n",
        "from keras.utils import np_utils\n",
        "from keras.models import Sequential\n",
        "from keras.layers import Conv2D,MaxPooling2D,Dense,Flatten,Dropout\n",
        "            \n",
        "from random import shuffle\n",
        "from tqdm import tqdm  \n",
        "import scipy\n",
        "import skimage\n",
        "from skimage.transform import resize\n",
        "import random\n"
      ]
    },
    {
      "cell_type": "code",
      "source": [
        "!git clone https://github.com/sahilabudhwani/ML-Detection-for-Malaria.git"
      ],
      "metadata": {
        "colab": {
          "base_uri": "https://localhost:8080/"
        },
        "id": "05hZHuW2wuuZ",
        "outputId": "61548f04-d95b-43f7-b5af-e6bf96a8b916"
      },
      "execution_count": 2,
      "outputs": [
        {
          "output_type": "stream",
          "name": "stdout",
          "text": [
            "Cloning into 'ML-Detection-for-Malaria'...\n",
            "remote: Enumerating objects: 27571, done.\u001b[K\n",
            "remote: Counting objects: 100% (27571/27571), done.\u001b[K\n",
            "remote: Compressing objects: 100% (27570/27570), done.\u001b[K\n",
            "remote: Total 27571 (delta 2), reused 27566 (delta 0), pack-reused 0\n",
            "Receiving objects: 100% (27571/27571), 331.67 MiB | 41.77 MiB/s, done.\n",
            "Resolving deltas: 100% (2/2), done.\n",
            "Checking out files: 100% (27562/27562), done.\n"
          ]
        }
      ]
    },
    {
      "cell_type": "code",
      "source": [
        "  img= Image.open(r'/content/ML-Detection-for-Malaria/Malaria_Dataset/Parasitized/C100P61ThinF_IMG_20150918_144104_cell_162.png')\n",
        "  print(img.size)\n",
        "  img=img.resize((50,50))\n",
        "  print(img.size) \n",
        "  "
      ],
      "metadata": {
        "colab": {
          "base_uri": "https://localhost:8080/"
        },
        "id": "ZaUvz8cc-3gC",
        "outputId": "248de446-1fb2-45b4-ae09-ba5af0510c7a"
      },
      "execution_count": 119,
      "outputs": [
        {
          "output_type": "stream",
          "name": "stdout",
          "text": [
            "(142, 148)\n",
            "(50, 50)\n"
          ]
        }
      ]
    },
    {
      "cell_type": "code",
      "source": [
        "import fnmatch \n",
        "data=[]\n",
        "labels=[]\n",
        "\n",
        "Parasitized=fnmatch.filter(os.listdir(\"/content/ML-Detection-for-Malaria/Malaria_Dataset/Parasitized\"), '*png')\n",
        "for a in Parasitized: \n",
        "    img= Image.open(r'/content/ML-Detection-for-Malaria/Malaria_Dataset/Parasitized/' +a)\n",
        "    img=img.resize((50,50)) \n",
        "    data.append(np.asarray(img))\n",
        "    labels.append(0)\n",
        "  \n",
        "\n",
        "\n",
        "Uninfected=fnmatch.filter(os.listdir(\"/content/ML-Detection-for-Malaria/Malaria_Dataset/Uninfected\"), '*png')\n",
        "for u in Uninfected: \n",
        "    img= Image.open(r'/content/ML-Detection-for-Malaria/Malaria_Dataset/Uninfected/' +u)\n",
        "    img=img.resize((50,50)) \n",
        "    data.append(np.asarray(img))\n",
        "    labels.append(1)\n",
        "    "
      ],
      "metadata": {
        "id": "sZ9ta89162ml"
      },
      "execution_count": 134,
      "outputs": []
    },
    {
      "cell_type": "code",
      "source": [
        "Cells=np.array(data)\n",
        "labels=np.array(labels)\n",
        "print(Cells.shape, labels.shape)"
      ],
      "metadata": {
        "colab": {
          "base_uri": "https://localhost:8080/"
        },
        "id": "vNn4xAOb0LE6",
        "outputId": "96b87fa4-5211-48e2-a85f-21a2018c1733"
      },
      "execution_count": 135,
      "outputs": [
        {
          "output_type": "stream",
          "name": "stdout",
          "text": [
            "(27558, 50, 50, 3) (27558,)\n"
          ]
        }
      ]
    },
    {
      "cell_type": "code",
      "source": [
        "Cells=np.stack(data)\n",
        "labels=np.stack(labels)\n",
        "print(Cells.shape, labels.shape)"
      ],
      "metadata": {
        "colab": {
          "base_uri": "https://localhost:8080/"
        },
        "id": "eN6e-vJa7SmN",
        "outputId": "cda03260-a3bf-48fa-88d0-3d2bc33414f1"
      },
      "execution_count": 136,
      "outputs": [
        {
          "output_type": "stream",
          "name": "stdout",
          "text": [
            "(27558, 50, 50, 3) (27558,)\n"
          ]
        }
      ]
    },
    {
      "cell_type": "code",
      "source": [
        "np.save(\"Cells\",Cells)\n",
        "np.save(\"labels\",labels)"
      ],
      "metadata": {
        "id": "lxcpsLsQ7VkN"
      },
      "execution_count": 137,
      "outputs": []
    },
    {
      "cell_type": "code",
      "source": [
        "Cells=np.load(\"Cells.npy\",allow_pickle=True)\n",
        "labels=np.load(\"labels.npy\",allow_pickle=True)"
      ],
      "metadata": {
        "id": "L9e-TOTW7cSQ"
      },
      "execution_count": 138,
      "outputs": []
    },
    {
      "cell_type": "code",
      "source": [
        "num_classes = 2\n",
        "\n",
        "labels = keras.utils.to_categorical(labels, num_classes)\n",
        "print(labels[0])"
      ],
      "metadata": {
        "colab": {
          "base_uri": "https://localhost:8080/"
        },
        "id": "bhavLTW57qIw",
        "outputId": "060a4eac-89af-497c-8d54-6ec32da56cdf"
      },
      "execution_count": 139,
      "outputs": [
        {
          "output_type": "stream",
          "name": "stdout",
          "text": [
            "[1. 0.]\n"
          ]
        }
      ]
    },
    {
      "cell_type": "code",
      "source": [
        "from sklearn.model_selection import train_test_split\n",
        "x_train, x_val, y_train, y_val = train_test_split(Cells, labels, test_size = 0.1, random_state=5)\n",
        "print('Train dataset number: {}'.format(len(x_train)))\n",
        "print('Test dataset number: {}'.format(len(x_val)))"
      ],
      "metadata": {
        "colab": {
          "base_uri": "https://localhost:8080/"
        },
        "id": "gqv-kc-etG6t",
        "outputId": "e8de0556-dead-4526-cb6b-53aaef45a837"
      },
      "execution_count": 144,
      "outputs": [
        {
          "output_type": "stream",
          "name": "stdout",
          "text": [
            "Train dataset number: 24802\n",
            "Test dataset number: 2756\n"
          ]
        }
      ]
    },
    {
      "cell_type": "code",
      "source": [
        "#creating sequential model\n",
        "model = Sequential()\n",
        "model.add(Conv2D(20, kernel_size=(2, 2),\n",
        "                 activation='sigmoid',\n",
        "                 input_shape=(50, 50, 3)))\n",
        "model.add(MaxPooling2D(pool_size=(2, 2)))\n",
        "model.add(Conv2D(30, kernel_size=(3,3), activation='sigmoid'))\n",
        "model.add(MaxPooling2D(pool_size=(2, 2)))\n",
        "model.add(Flatten())\n",
        "model.add(Dropout(0.3))\n",
        "model.add(Dense(128, activation='sigmoid'))\n",
        "model.add(Dropout(0.15))\n",
        "model.add(Dense(50, activation='sigmoid'))\n",
        "model.add(Dense(num_classes, activation='softmax'))\n",
        "\n",
        "model.summary()"
      ],
      "metadata": {
        "colab": {
          "base_uri": "https://localhost:8080/"
        },
        "id": "eQooafEISVYw",
        "outputId": "9aa75f68-8cc4-4191-bb30-b0b70351ff52"
      },
      "execution_count": 147,
      "outputs": [
        {
          "output_type": "stream",
          "name": "stdout",
          "text": [
            "Model: \"sequential_7\"\n",
            "_________________________________________________________________\n",
            " Layer (type)                Output Shape              Param #   \n",
            "=================================================================\n",
            " conv2d_17 (Conv2D)          (None, 49, 49, 20)        260       \n",
            "                                                                 \n",
            " max_pooling2d_17 (MaxPoolin  (None, 24, 24, 20)       0         \n",
            " g2D)                                                            \n",
            "                                                                 \n",
            " conv2d_18 (Conv2D)          (None, 22, 22, 30)        5430      \n",
            "                                                                 \n",
            " max_pooling2d_18 (MaxPoolin  (None, 11, 11, 30)       0         \n",
            " g2D)                                                            \n",
            "                                                                 \n",
            " flatten_7 (Flatten)         (None, 3630)              0         \n",
            "                                                                 \n",
            " dropout_14 (Dropout)        (None, 3630)              0         \n",
            "                                                                 \n",
            " dense_18 (Dense)            (None, 128)               464768    \n",
            "                                                                 \n",
            " dropout_15 (Dropout)        (None, 128)               0         \n",
            "                                                                 \n",
            " dense_19 (Dense)            (None, 50)                6450      \n",
            "                                                                 \n",
            " dense_20 (Dense)            (None, 2)                 102       \n",
            "                                                                 \n",
            "=================================================================\n",
            "Total params: 477,010\n",
            "Trainable params: 477,010\n",
            "Non-trainable params: 0\n",
            "_________________________________________________________________\n"
          ]
        }
      ]
    },
    {
      "cell_type": "code",
      "source": [
        "model.compile(loss='categorical_crossentropy',\n",
        "              optimizer='adam',\n",
        "              metrics=['accuracy'])"
      ],
      "metadata": {
        "id": "pEjzjVf5tblh"
      },
      "execution_count": 148,
      "outputs": []
    },
    {
      "cell_type": "code",
      "source": [
        "print(type(x_train))"
      ],
      "metadata": {
        "colab": {
          "base_uri": "https://localhost:8080/"
        },
        "id": "20-8mmlIwP8S",
        "outputId": "a3d6474d-ff07-4a3a-e422-166f880c4598"
      },
      "execution_count": 132,
      "outputs": [
        {
          "output_type": "stream",
          "name": "stdout",
          "text": [
            "<class 'list'>\n"
          ]
        }
      ]
    },
    {
      "cell_type": "code",
      "source": [
        "\n",
        "\n",
        "history = model.fit(x_train, y_train,\n",
        "                    batch_size=32,\n",
        "                    epochs=1,                    \n",
        "                    verbose=1,\n",
        "                    validation_data=(x_val, y_val))"
      ],
      "metadata": {
        "colab": {
          "base_uri": "https://localhost:8080/"
        },
        "id": "k2XObAUithRJ",
        "outputId": "a471c4b7-0ede-439d-b6ba-6c23ec789899"
      },
      "execution_count": 149,
      "outputs": [
        {
          "output_type": "stream",
          "name": "stdout",
          "text": [
            "776/776 [==============================] - 48s 61ms/step - loss: 0.4702 - accuracy: 0.7626 - val_loss: 0.3217 - val_accuracy: 0.8788\n"
          ]
        }
      ]
    },
    {
      "cell_type": "code",
      "source": [
        "batch_size = 30\n",
        "epochs = 10\n",
        "\n",
        "callbacks_list = [\n",
        "    keras.callbacks.ModelCheckpoint(\n",
        "        filepath='model.h5',\n",
        "        monitor='val_loss', save_best_only=True, verbose=1),\n",
        "    keras.callbacks.EarlyStopping(monitor='val_loss', patience=10,verbose=1)\n",
        "]\n",
        "\n",
        "history = model.fit(x_train, y_train,\n",
        "                    batch_size=batch_size,\n",
        "                    epochs=epochs,\n",
        "                    callbacks = callbacks_list,\n",
        "                    verbose=1,\n",
        "                    validation_data=(x_val, y_val))"
      ],
      "metadata": {
        "colab": {
          "base_uri": "https://localhost:8080/"
        },
        "id": "4pB7p9GvE76L",
        "outputId": "81fcbbc8-aa06-4a6f-f783-a9a1fbf3ef23"
      },
      "execution_count": 150,
      "outputs": [
        {
          "output_type": "stream",
          "name": "stdout",
          "text": [
            "Epoch 1/10\n",
            "826/827 [============================>.] - ETA: 0s - loss: 0.2348 - accuracy: 0.9195\n",
            "Epoch 1: val_loss improved from inf to 0.20801, saving model to model.h5\n",
            "827/827 [==============================] - 52s 63ms/step - loss: 0.2349 - accuracy: 0.9194 - val_loss: 0.2080 - val_accuracy: 0.9390\n",
            "Epoch 2/10\n",
            "826/827 [============================>.] - ETA: 0s - loss: 0.2076 - accuracy: 0.9299\n",
            "Epoch 2: val_loss improved from 0.20801 to 0.17241, saving model to model.h5\n",
            "827/827 [==============================] - 50s 61ms/step - loss: 0.2076 - accuracy: 0.9299 - val_loss: 0.1724 - val_accuracy: 0.9445\n",
            "Epoch 3/10\n",
            "826/827 [============================>.] - ETA: 0s - loss: 0.2098 - accuracy: 0.9271\n",
            "Epoch 3: val_loss improved from 0.17241 to 0.16476, saving model to model.h5\n",
            "827/827 [==============================] - 48s 59ms/step - loss: 0.2098 - accuracy: 0.9271 - val_loss: 0.1648 - val_accuracy: 0.9430\n",
            "Epoch 4/10\n",
            "826/827 [============================>.] - ETA: 0s - loss: 0.1839 - accuracy: 0.9395\n",
            "Epoch 4: val_loss improved from 0.16476 to 0.15805, saving model to model.h5\n",
            "827/827 [==============================] - 48s 58ms/step - loss: 0.1839 - accuracy: 0.9394 - val_loss: 0.1580 - val_accuracy: 0.9492\n",
            "Epoch 5/10\n",
            "827/827 [==============================] - ETA: 0s - loss: 0.1780 - accuracy: 0.9419\n",
            "Epoch 5: val_loss did not improve from 0.15805\n",
            "827/827 [==============================] - 48s 58ms/step - loss: 0.1780 - accuracy: 0.9419 - val_loss: 0.1601 - val_accuracy: 0.9430\n",
            "Epoch 6/10\n",
            "826/827 [============================>.] - ETA: 0s - loss: 0.1773 - accuracy: 0.9423\n",
            "Epoch 6: val_loss did not improve from 0.15805\n",
            "827/827 [==============================] - 48s 58ms/step - loss: 0.1773 - accuracy: 0.9423 - val_loss: 0.1631 - val_accuracy: 0.9459\n",
            "Epoch 7/10\n",
            "826/827 [============================>.] - ETA: 0s - loss: 0.1727 - accuracy: 0.9432\n",
            "Epoch 7: val_loss improved from 0.15805 to 0.15175, saving model to model.h5\n",
            "827/827 [==============================] - 48s 58ms/step - loss: 0.1727 - accuracy: 0.9432 - val_loss: 0.1518 - val_accuracy: 0.9507\n",
            "Epoch 8/10\n",
            "826/827 [============================>.] - ETA: 0s - loss: 0.1686 - accuracy: 0.9445\n",
            "Epoch 8: val_loss improved from 0.15175 to 0.14469, saving model to model.h5\n",
            "827/827 [==============================] - 48s 58ms/step - loss: 0.1686 - accuracy: 0.9445 - val_loss: 0.1447 - val_accuracy: 0.9521\n",
            "Epoch 9/10\n",
            "826/827 [============================>.] - ETA: 0s - loss: 0.1605 - accuracy: 0.9456\n",
            "Epoch 9: val_loss did not improve from 0.14469\n",
            "827/827 [==============================] - 48s 58ms/step - loss: 0.1604 - accuracy: 0.9456 - val_loss: 0.1528 - val_accuracy: 0.9485\n",
            "Epoch 10/10\n",
            "826/827 [============================>.] - ETA: 0s - loss: 0.1530 - accuracy: 0.9492\n",
            "Epoch 10: val_loss did not improve from 0.14469\n",
            "827/827 [==============================] - 48s 58ms/step - loss: 0.1530 - accuracy: 0.9492 - val_loss: 0.1515 - val_accuracy: 0.9485\n"
          ]
        }
      ]
    },
    {
      "cell_type": "code",
      "source": [
        "fig, ax = plt.subplots(1,2, figsize=(16,8))\n",
        "ax[0].plot(history.history['loss'], color='b', label=\"Training loss\")\n",
        "ax[0].plot(history.history['val_loss'], color='r', label=\"validation loss\",axes =ax[0])\n",
        "legend = ax[0].legend(loc='best', shadow=True)\n",
        "\n",
        "ax[1].plot(history.history['accuracy'], color='b', label=\"Training accuracy\")\n",
        "ax[1].plot(history.history['val_accuracy'], color='r',label=\"Validation accuracy\")\n",
        "legend = ax[1].legend(loc='best', shadow=True)"
      ],
      "metadata": {
        "colab": {
          "base_uri": "https://localhost:8080/",
          "height": 483
        },
        "id": "iN9jWmC9FAef",
        "outputId": "9fa856a9-89bb-45b7-ce02-0ae2a4dd033e"
      },
      "execution_count": 157,
      "outputs": [
        {
          "output_type": "display_data",
          "data": {
            "text/plain": [
              "<Figure size 1152x576 with 2 Axes>"
            ],
            "image/png": "[encoded data removed]"
          },
          "metadata": {
            "needs_background": "light"
          }
        }
      ]
    },
    {
      "cell_type": "code",
      "source": [
        "from tensorflow.keras.models import load_model\n",
        "\n",
        "model = load_model('model.h5')"
      ],
      "metadata": {
        "id": "DtsEKuuLFHjR"
      },
      "execution_count": 152,
      "outputs": []
    },
    {
      "cell_type": "code",
      "source": [
        "score = model.evaluate(x_val, y_val, verbose=0)\n",
        "print('Test loss:', score[0])\n",
        "print('Test accuracy:', score[1])"
      ],
      "metadata": {
        "colab": {
          "base_uri": "https://localhost:8080/"
        },
        "id": "5RtBgrziFLWo",
        "outputId": "c014f804-479b-490f-b62b-43f2f63461e5"
      },
      "execution_count": 153,
      "outputs": [
        {
          "output_type": "stream",
          "name": "stdout",
          "text": [
            "Test loss: 0.13380329310894012\n",
            "Test accuracy: 0.9564586281776428\n"
          ]
        }
      ]
    },
    {
      "cell_type": "code",
      "source": [
        "import itertools\n",
        "\n",
        "def plot_confusion_matrix(cm, classes, normalize=True, title='Confusion matrix', cmap=plt.cm.Blues):\n",
        "    \"\"\"\n",
        "    This function prints and plots the confusion matrix.\n",
        "    Normalization can be applied by setting `normalize=True`.\n",
        "    \"\"\"\n",
        "    plt.figure(figsize=(10,10))\n",
        "    plt.imshow(cm, interpolation='nearest', cmap=cmap)\n",
        "    plt.title(title)\n",
        "    plt.colorbar()\n",
        "    tick_marks = np.arange(len(classes))\n",
        "    plt.xticks(tick_marks, classes, rotation=45)\n",
        "    plt.yticks(tick_marks, classes)\n",
        "    if normalize:\n",
        "        cm = cm.astype('float') / cm.sum(axis=1)[:, np.newaxis]\n",
        "        cm = np.around(cm, decimals=2)\n",
        "        cm[np.isnan(cm)] = 0.0\n",
        "    thresh = cm.max() / 2.\n",
        "    for i, j in itertools.product(range(cm.shape[0]), range(cm.shape[1])):\n",
        "        plt.text(j, i, cm[i, j],\n",
        "                 horizontalalignment=\"center\",\n",
        "                 color=\"white\" if cm[i, j] > thresh else \"black\")\n",
        "    plt.tight_layout()\n",
        "    plt.ylabel('True label')\n",
        "    plt.xlabel('Predicted label')"
      ],
      "metadata": {
        "id": "7feOX2_kHte5"
      },
      "execution_count": 155,
      "outputs": []
    },
    {
      "cell_type": "code",
      "source": [
        "import numpy as np\n",
        "\n",
        "y_pred = (model.predict(x_val) > 0.5).astype(\"int32\")\n",
        "\n",
        "y_test_c = np.argmax(y_val, axis=1)\n",
        "target_names = [\"Uninfected\", \"Parasited\"]\n",
        "\n",
        "Y_pred = np.argmax(model.predict(x_val),axis=1)\n",
        "print('Confusion Matrix')\n",
        "cm = confusion_matrix(y_test_c, Y_pred)\n",
        "plot_confusion_matrix(cm, target_names, normalize=False, title='Confusion Matrix')\n",
        "\n",
        "print('Classification Report')\n",
        "print(classification_report(y_test_c, Y_pred, target_names=target_names))"
      ],
      "metadata": {
        "colab": {
          "base_uri": "https://localhost:8080/",
          "height": 916
        },
        "id": "XZI4ivkqHo2C",
        "outputId": "3406c3d3-cbe6-4cea-a6d1-9a45939d3fb9"
      },
      "execution_count": 156,
      "outputs": [
        {
          "output_type": "stream",
          "name": "stdout",
          "text": [
            "Confusion Matrix\n",
            "Classification Report\n",
            "              precision    recall  f1-score   support\n",
            "\n",
            "  Uninfected       0.96      0.96      0.96      1420\n",
            "   Parasited       0.95      0.96      0.96      1336\n",
            "\n",
            "    accuracy                           0.96      2756\n",
            "   macro avg       0.96      0.96      0.96      2756\n",
            "weighted avg       0.96      0.96      0.96      2756\n",
            "\n"
          ]
        },
        {
          "output_type": "display_data",
          "data": {
            "text/plain": [
              "<Figure size 720x720 with 2 Axes>"
            ],
            "image/png": "[encoded data removed]"
          },
          "metadata": {
            "needs_background": "light"
          }
        }
      ]
    },
    {
      "cell_type": "code",
      "source": [
        ""
      ],
      "metadata": {
        "id": "IrTYADyZFN89"
      },
      "execution_count": null,
      "outputs": []
    }
  ]
}