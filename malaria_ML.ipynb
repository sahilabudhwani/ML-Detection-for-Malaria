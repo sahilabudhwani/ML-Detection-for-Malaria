{
  "nbformat": 4,
  "nbformat_minor": 0,
  "metadata": {
    "colab": {
      "name": "malaria_ML.ipynb",
      "provenance": []
    },
    "kernelspec": {
      "name": "python3",
      "display_name": "Python 3"
    },
    "language_info": {
      "name": "python"
    },
    "accelerator": "TPU"
  },
  "cells": [
    {
      "cell_type": "code",
      "execution_count": 5,
      "metadata": {
        "colab": {
          "base_uri": "https://localhost:8080/"
        },
        "id": "uNlbwGkpZl4Q",
        "outputId": "c76aece8-4209-4d59-e020-a59a74115b1f"
      },
      "outputs": [
        {
          "output_type": "stream",
          "name": "stdout",
          "text": [
            "\u001b[31mERROR: Could not find a version that satisfies the requirement tensorflow-gpu==2.0.0-rc0 (from versions: 1.13.1, 1.13.2, 1.14.0, 1.15.0, 1.15.2, 1.15.3, 1.15.4, 1.15.5, 2.0.0, 2.0.1, 2.0.2, 2.0.3, 2.0.4, 2.1.0, 2.1.1, 2.1.2, 2.1.3, 2.1.4, 2.2.0, 2.2.1, 2.2.2, 2.2.3, 2.3.0, 2.3.1, 2.3.2, 2.3.3, 2.3.4, 2.4.0, 2.4.1, 2.4.2, 2.4.3, 2.4.4, 2.5.0, 2.5.1, 2.5.2, 2.5.3, 2.6.0, 2.6.1, 2.6.2, 2.6.3, 2.7.0rc0, 2.7.0rc1, 2.7.0, 2.7.1, 2.8.0rc0, 2.8.0rc1, 2.8.0)\u001b[0m\n",
            "\u001b[31mERROR: No matching distribution found for tensorflow-gpu==2.0.0-rc0\u001b[0m\n"
          ]
        }
      ],
      "source": [
        "!pip install tensorflow-gpu==2.0.0-rc0"
      ]
    },
    {
      "cell_type": "code",
      "source": [
        "import tensorflow as tf\n",
        "from tensorflow.keras import Sequential\n",
        "from tensorflow.keras.layers import Flatten, Dense, Conv2D, MaxPool2D, Dropout\n",
        "from tensorflow.keras.preprocessing.image import ImageDataGenerator\n",
        "\n",
        "print(tf.__version__)"
      ],
      "metadata": {
        "colab": {
          "base_uri": "https://localhost:8080/"
        },
        "id": "44iMmjUtbCyo",
        "outputId": "201cf028-fa5f-4ddd-cb25-bf818791536b"
      },
      "execution_count": 87,
      "outputs": [
        {
          "output_type": "stream",
          "name": "stdout",
          "text": [
            "2.8.0\n"
          ]
        }
      ]
    },
    {
      "cell_type": "code",
      "source": [
        "import numpy as np\n",
        "import matplotlib.pyplot as plt"
      ],
      "metadata": {
        "id": "_KmPmobmbG_c"
      },
      "execution_count": 88,
      "outputs": []
    },
    {
      "cell_type": "code",
      "source": [
        "!git clone https://github.com/sahilabudhwani/ML-Detection-for-Malaria.git"
      ],
      "metadata": {
        "colab": {
          "base_uri": "https://localhost:8080/"
        },
        "id": "6U2E0uAKbNTG",
        "outputId": "34a031e6-8734-450e-b2aa-af7faf915e26"
      },
      "execution_count": 83,
      "outputs": [
        {
          "output_type": "stream",
          "name": "stdout",
          "text": [
            "Cloning into 'ML-Detection-for-Malaria'...\n",
            "remote: Enumerating objects: 27568, done.\u001b[K\n",
            "remote: Counting objects: 100% (27568/27568), done.\u001b[K\n",
            "remote: Compressing objects: 100% (27567/27567), done.\u001b[K\n",
            "remote: Total 27568 (delta 1), reused 27567 (delta 0), pack-reused 0\n",
            "Receiving objects: 100% (27568/27568), 331.64 MiB | 36.90 MiB/s, done.\n",
            "Resolving deltas: 100% (1/1), done.\n",
            "Checking out files: 100% (27561/27561), done.\n"
          ]
        }
      ]
    },
    {
      "cell_type": "code",
      "source": [
        "import os, random\n",
        "import cv2\n",
        "import matplotlib.pyplot as plt\n",
        "\n",
        "directory = '/content/Malaria-Classification-Using-CNN/malaria-dataset/Parasitized/'\n",
        "\n",
        "print('Infected Cell Images')\n",
        "for x in os.listdir(directory)[:5]:\n",
        "  image = cv2.imread(\"/content/Malaria-Classification-Using-CNN/malaria-dataset/Parasitized/\"+x)\n",
        "  \n",
        "  plt.imshow(image)\n",
        "  print(f'This is the shape of the image {image.shape} and {image.size} pixels')     \n",
        "  \n",
        "  plt.show()"
      ],
      "metadata": {
        "id": "tP20gzQxg3ug"
      },
      "execution_count": null,
      "outputs": []
    },
    {
      "cell_type": "code",
      "source": [
        "import os, random\n",
        "import cv2\n",
        "import matplotlib.pyplot as plt\n",
        "\n",
        "directory1 = '/content/Malaria-Classification-Using-CNN/malaria-dataset/Uninfected/'\n",
        "\n",
        "print('Uninfected Cell Images')\n",
        "for x in os.listdir(directory1)[:5]:\n",
        "  image = cv2.imread(\"/content/Malaria-Classification-Using-CNN/malaria-dataset/Uninfected/\"+x)\n",
        "  \n",
        "  plt.imshow(image)\n",
        "  print(f'This is the shape of the image {image.shape} and {image.size} pixels')     \n",
        "  \n",
        "  plt.show()"
      ],
      "metadata": {
        "id": "Mw-uX7smg8_h"
      },
      "execution_count": null,
      "outputs": []
    },
    {
      "cell_type": "code",
      "source": [
        "datagen = ImageDataGenerator(rescale=1/255.0, validation_split=0.2)"
      ],
      "metadata": {
        "id": "YeR_EGdefnbL"
      },
      "execution_count": 89,
      "outputs": []
    },
    {
      "cell_type": "code",
      "source": [
        "img_width = 50\n",
        "img_height = 50"
      ],
      "metadata": {
        "id": "679pHWzSq0Ml"
      },
      "execution_count": 90,
      "outputs": []
    },
    {
      "cell_type": "code",
      "source": [
        "train_data_generator = datagen.flow_from_directory(directory='/content/Malaria-Classification-Using-CNN/malaria-dataset',\n",
        "                                                   target_size = (img_width, img_height),\n",
        "                                                   class_mode = 'binary',\n",
        "                                                   batch_size = 16,\n",
        "                                                   subset = 'training'\n",
        "                                                   )"
      ],
      "metadata": {
        "colab": {
          "base_uri": "https://localhost:8080/"
        },
        "id": "qA3UHsbefvrF",
        "outputId": "f294ae8d-e4c1-457e-f01e-6e5d2cd71027"
      },
      "execution_count": 91,
      "outputs": [
        {
          "output_type": "stream",
          "name": "stdout",
          "text": [
            "Found 22048 images belonging to 2 classes.\n"
          ]
        }
      ]
    },
    {
      "cell_type": "code",
      "source": [
        "validation_data_generator = datagen.flow_from_directory(directory='/content/Malaria-Classification-Using-CNN/malaria-dataset',\n",
        "                                                   target_size = (img_width, img_height),\n",
        "                                                   class_mode = 'binary',\n",
        "                                                   batch_size = 16,\n",
        "                                                   subset = 'validation'\n",
        "                                                   )"
      ],
      "metadata": {
        "colab": {
          "base_uri": "https://localhost:8080/"
        },
        "id": "RrP_fd_df1UD",
        "outputId": "bcf77dd0-679d-43d5-9c06-db5fe436e6c9"
      },
      "execution_count": 92,
      "outputs": [
        {
          "output_type": "stream",
          "name": "stdout",
          "text": [
            "Found 5510 images belonging to 2 classes.\n"
          ]
        }
      ]
    },
    {
      "cell_type": "markdown",
      "source": [
        "CNN model archtecture "
      ],
      "metadata": {
        "id": "EjE_CVeHf4wE"
      }
    },
    {
      "cell_type": "code",
      "source": [
        "model = Sequential()\n",
        "\n",
        "model.add(Conv2D(16, (3,3), input_shape = (img_width, img_height, 3), activation='relu'))\n",
        "model.add(MaxPool2D(2,2))\n",
        "model.add(Dropout(0.2))\n",
        "\n",
        "model.add(Conv2D(32, (3,3), activation='relu'))\n",
        "model.add(MaxPool2D(2,2))\n",
        "model.add(Dropout(0.3))\n",
        "\n",
        "model.add(Flatten())\n",
        "model.add(Dense(64, activation='relu'))\n",
        "model.add(Dropout(0.5))\n",
        "\n",
        "\n",
        "model.add(Dense(1, activation='sigmoid'))"
      ],
      "metadata": {
        "id": "SFfZUTcpf9ns"
      },
      "execution_count": 97,
      "outputs": []
    },
    {
      "cell_type": "code",
      "source": [
        "model.summary()"
      ],
      "metadata": {
        "id": "8s9hvhREgBLM"
      },
      "execution_count": null,
      "outputs": []
    },
    {
      "cell_type": "code",
      "source": [
        "model.compile(optimizer='adam', loss='binary_crossentropy', metrics = ['accuracy'])"
      ],
      "metadata": {
        "id": "Ks5JRiHzgCgT"
      },
      "execution_count": 99,
      "outputs": []
    },
    {
      "cell_type": "code",
      "source": [
        "history = model.fit_generator(generator=train_data_generator,\n",
        "                              steps_per_epoch = len(train_data_generator),\n",
        "                              epochs = 5,\n",
        "                              validation_data = validation_data_generator,\n",
        "                              validation_steps = len(validation_data_generator))"
      ],
      "metadata": {
        "id": "WggmfzjggEcz"
      },
      "execution_count": null,
      "outputs": []
    },
    {
      "cell_type": "code",
      "source": [
        "history.history"
      ],
      "metadata": {
        "id": "hQKQ_r0zgMY8"
      },
      "execution_count": null,
      "outputs": []
    },
    {
      "cell_type": "code",
      "source": [
        "def plot_learningCurve(history, epoch):\n",
        "  # Plot training & validation accuracy values\n",
        "  epoch_range = range(1, epoch+1)\n",
        "  plt.plot(epoch_range, history.history['accuracy'])\n",
        "  plt.plot(epoch_range, history.history['val_accuracy'])\n",
        "  plt.title('Model accuracy')\n",
        "  plt.ylabel('Accuracy')\n",
        "  plt.xlabel('Epoch')\n",
        "  plt.legend(['Train', 'Val'], loc='upper left')\n",
        "  plt.show()\n",
        "\n",
        "  # Plot training & validation loss values\n",
        "  plt.plot(epoch_range, history.history['loss'])\n",
        "  plt.plot(epoch_range, history.history['val_loss'])\n",
        "  plt.title('Model loss')\n",
        "  plt.ylabel('Loss')\n",
        "  plt.xlabel('Epoch')\n",
        "  plt.legend(['Train', 'Val'], loc='upper left')\n",
        "  plt.show()"
      ],
      "metadata": {
        "id": "uOlOULAhgM6n"
      },
      "execution_count": 18,
      "outputs": []
    },
    {
      "cell_type": "code",
      "source": [
        "plot_learningCurve(history, 5)"
      ],
      "metadata": {
        "colab": {
          "base_uri": "https://localhost:8080/",
          "height": 573
        },
        "id": "DVq_JmJAgR6_",
        "outputId": "e994bed1-e10a-4d06-80ee-2ca1d6765591"
      },
      "execution_count": 21,
      "outputs": [
        {
          "output_type": "display_data",
          "data": {
            "text/plain": [
              "<Figure size 432x288 with 1 Axes>"
            ],
            "image/png": "[encoded data removed]"
          },
          "metadata": {
            "needs_background": "light"
          }
        },
        {
          "output_type": "display_data",
          "data": {
            "text/plain": [
              "<Figure size 432x288 with 1 Axes>"
            ],
            "image/png": "[encoded data removed]"
          },
          "metadata": {
            "needs_background": "light"
          }
        }
      ]
    }
  ]
}