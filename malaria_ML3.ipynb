{
  "nbformat": 4,
  "nbformat_minor": 0,
  "metadata": {
    "colab": {
      "name": "malaria_ML3.ipynb",
      "provenance": []
    },
    "kernelspec": {
      "name": "python3",
      "display_name": "Python 3"
    },
    "language_info": {
      "name": "python"
    }
  },
  "cells": [
    {
      "cell_type": "code",
      "execution_count": null,
      "metadata": {
        "id": "3FcGdescZEPN"
      },
      "outputs": [],
      "source": [
        "#data preprocessing\n",
        "import pandas as pd\n",
        "#math operations\n",
        "import numpy as np\n",
        "#machine learning\n",
        "\n",
        "from sklearn.preprocessing import StandardScaler\n",
        "#hyperparameter optimization\n",
        "from sklearn.model_selection import GridSearchCV\n",
        "#support vector machine model\n",
        "from keras import regularizers\n",
        "import matplotlib.pyplot as plt\n",
        "from PIL import Image\n",
        "import numpy as np\n",
        "import os\n",
        "import cv2\n",
        "import keras\n",
        "from keras.utils import np_utils\n",
        "from keras.models import Sequential\n",
        "from keras.layers import Conv2D,MaxPooling2D,Dense,Flatten,Dropout,BatchNormalization\n",
        "from keras.optimizers import adam_v2\n",
        "import tensorflow as tf\n",
        "from random import shuffle\n",
        "from tqdm import tqdm  \n",
        "import scipy\n",
        "import skimage\n",
        "from skimage.transform import resize\n",
        "import random\n"
      ]
    },
    {
      "cell_type": "code",
      "source": [
        ""
      ],
      "metadata": {
        "id": "1_ReOUS1ZZjs"
      },
      "execution_count": null,
      "outputs": []
    },
    {
      "cell_type": "code",
      "source": [
        "!git clone https://github.com/sahilabudhwani/ML-Detection-for-Malaria.git"
      ],
      "metadata": {
        "colab": {
          "base_uri": "https://localhost:8080/"
        },
        "id": "frrYfS_3ZZnH",
        "outputId": "9b91d70e-4146-410e-ace3-75d1d16336b9"
      },
      "execution_count": null,
      "outputs": [
        {
          "output_type": "stream",
          "name": "stdout",
          "text": [
            "fatal: destination path 'ML-Detection-for-Malaria' already exists and is not an empty directory.\n"
          ]
        }
      ]
    },
    {
      "cell_type": "code",
      "source": [
        "import fnmatch \n",
        "data=[]\n",
        "labels=[]\n",
        "\n",
        "Parasitized=fnmatch.filter(os.listdir(\"/content/ML-Detection-for-Malaria/Malaria_Dataset/Parasitized\"), '*png')\n",
        "for a in Parasitized: \n",
        "    img= Image.open(r'/content/ML-Detection-for-Malaria/Malaria_Dataset/Parasitized/' +a)\n",
        "    img=img.resize((128,128)) \n",
        "    data.append(np.asarray(img))\n",
        "    labels.append(0)\n",
        "  \n",
        "\n",
        "\n",
        "Uninfected=fnmatch.filter(os.listdir(\"/content/ML-Detection-for-Malaria/Malaria_Dataset/Uninfected\"), '*png')\n",
        "for u in Uninfected: \n",
        "    img= Image.open(r'/content/ML-Detection-for-Malaria/Malaria_Dataset/Uninfected/' +u)\n",
        "    img=img.resize((128,128)) \n",
        "    data.append(np.asarray(img))\n",
        "    labels.append(1)\n",
        "    "
      ],
      "metadata": {
        "id": "0b_zG08PZb5f"
      },
      "execution_count": null,
      "outputs": []
    },
    {
      "cell_type": "code",
      "source": [
        "Cells=np.array(data)\n",
        "labels=np.array(labels)\n",
        "print(Cells.shape, labels.shape)"
      ],
      "metadata": {
        "colab": {
          "base_uri": "https://localhost:8080/"
        },
        "id": "T2nP6KjfZjdX",
        "outputId": "a0d87e88-5438-49c4-b75d-580e27961859"
      },
      "execution_count": null,
      "outputs": [
        {
          "output_type": "stream",
          "name": "stdout",
          "text": [
            "(27558, 128, 128, 3) (27558,)\n"
          ]
        }
      ]
    },
    {
      "cell_type": "code",
      "source": [
        "Cells=np.stack(data)\n",
        "labels=np.stack(labels)\n",
        "print(Cells.shape, labels.shape)"
      ],
      "metadata": {
        "colab": {
          "base_uri": "https://localhost:8080/"
        },
        "id": "-pp-ZtMcZmbE",
        "outputId": "11723a40-ec29-4789-c81c-7d1e8d67d901"
      },
      "execution_count": null,
      "outputs": [
        {
          "output_type": "stream",
          "name": "stdout",
          "text": [
            "(27558, 128, 128, 3) (27558,)\n"
          ]
        }
      ]
    },
    {
      "cell_type": "code",
      "source": [
        "np.save(\"Cells\",Cells)\n",
        "np.save(\"labels\",labels)"
      ],
      "metadata": {
        "id": "SV9-_ksfZoBC"
      },
      "execution_count": null,
      "outputs": []
    },
    {
      "cell_type": "code",
      "source": [
        "Cells=np.load(\"Cells.npy\",allow_pickle=True)\n",
        "labels=np.load(\"labels.npy\",allow_pickle=True)"
      ],
      "metadata": {
        "id": "vS9VnluuZpnl"
      },
      "execution_count": null,
      "outputs": []
    },
    {
      "cell_type": "code",
      "source": [
        "num_classes = 2\n",
        "\n",
        "labels = keras.utils.np_utils.to_categorical(labels, num_classes)\n",
        "print(labels[0])"
      ],
      "metadata": {
        "colab": {
          "base_uri": "https://localhost:8080/"
        },
        "id": "_E3mSq2yZ7Ro",
        "outputId": "198f532d-4ae6-47df-9694-cc1b99b32c8b"
      },
      "execution_count": null,
      "outputs": [
        {
          "output_type": "stream",
          "name": "stdout",
          "text": [
            "[1. 0.]\n"
          ]
        }
      ]
    },
    {
      "cell_type": "code",
      "source": [
        "from sklearn.model_selection import train_test_split\n",
        "x_train, x_val, y_train, y_val = train_test_split(Cells, labels, test_size = 0.2, random_state=5)\n",
        "print('Train dataset number: {}'.format(len(x_train)))\n",
        "print('Test dataset number: {}'.format(len(x_val)))"
      ],
      "metadata": {
        "colab": {
          "base_uri": "https://localhost:8080/"
        },
        "id": "OtwRGzTSaCrH",
        "outputId": "21d0b6b2-cdb6-4c00-8bea-1ceeea37c1f6"
      },
      "execution_count": null,
      "outputs": [
        {
          "output_type": "stream",
          "name": "stdout",
          "text": [
            "Train dataset number: 22046\n",
            "Test dataset number: 5512\n"
          ]
        }
      ]
    },
    {
      "cell_type": "code",
      "source": [
        "#creating sequential model\n",
        "model = Sequential()\n",
        "\n",
        "model.add(Conv2D(32, kernel_size=(2, 2),activation='relu',input_shape=(128,128, 3)))\n",
        "model.add(MaxPooling2D(pool_size=(2, 2)))\n",
        "model.add(BatchNormalization())\n",
        "model.add(Dropout(0.1))\n",
        "\n",
        "model.add(Conv2D(64, kernel_size=(3,3), activation='relu'))\n",
        "model.add(MaxPooling2D(pool_size=(2, 2)))\n",
        "model.add(Flatten())\n",
        "model.add(Dropout(0.3))\n",
        "\n",
        "model.add(Dense(128, activation='relu'))\n",
        "model.add(Dropout(0.5))\n",
        "\n",
        "model.add(Dense(10, activation='relu'))\n",
        "model.add(Dense(num_classes, activation='softmax'))\n",
        "\n",
        "model.summary()"
      ],
      "metadata": {
        "colab": {
          "base_uri": "https://localhost:8080/"
        },
        "id": "tQj05Eu9aOjD",
        "outputId": "a1936100-fa3b-4ee8-927a-c62a9ee70950"
      },
      "execution_count": null,
      "outputs": [
        {
          "output_type": "stream",
          "name": "stdout",
          "text": [
            "Model: \"sequential_1\"\n",
            "_________________________________________________________________\n",
            " Layer (type)                Output Shape              Param #   \n",
            "=================================================================\n",
            " conv2d_2 (Conv2D)           (None, 127, 127, 32)      416       \n",
            "                                                                 \n",
            " max_pooling2d_2 (MaxPooling  (None, 63, 63, 32)       0         \n",
            " 2D)                                                             \n",
            "                                                                 \n",
            " batch_normalization_1 (Batc  (None, 63, 63, 32)       128       \n",
            " hNormalization)                                                 \n",
            "                                                                 \n",
            " dropout_3 (Dropout)         (None, 63, 63, 32)        0         \n",
            "                                                                 \n",
            " conv2d_3 (Conv2D)           (None, 61, 61, 64)        18496     \n",
            "                                                                 \n",
            " max_pooling2d_3 (MaxPooling  (None, 30, 30, 64)       0         \n",
            " 2D)                                                             \n",
            "                                                                 \n",
            " flatten_1 (Flatten)         (None, 57600)             0         \n",
            "                                                                 \n",
            " dropout_4 (Dropout)         (None, 57600)             0         \n",
            "                                                                 \n",
            " dense_3 (Dense)             (None, 128)               7372928   \n",
            "                                                                 \n",
            " dropout_5 (Dropout)         (None, 128)               0         \n",
            "                                                                 \n",
            " dense_4 (Dense)             (None, 10)                1290      \n",
            "                                                                 \n",
            " dense_5 (Dense)             (None, 2)                 22        \n",
            "                                                                 \n",
            "=================================================================\n",
            "Total params: 7,393,280\n",
            "Trainable params: 7,393,216\n",
            "Non-trainable params: 64\n",
            "_________________________________________________________________\n"
          ]
        }
      ]
    },
    {
      "cell_type": "code",
      "source": [
        "model.compile(tf.optimizers.Adam(lr=0.001) , loss = \"categorical_crossentropy\", metrics=[\"accuracy\"])\n"
      ],
      "metadata": {
        "colab": {
          "base_uri": "https://localhost:8080/"
        },
        "id": "CcXlrHwGbmnG",
        "outputId": "3acab538-4ad2-4ff1-85cc-88e3c243af52"
      },
      "execution_count": null,
      "outputs": [
        {
          "output_type": "stream",
          "name": "stderr",
          "text": [
            "/usr/local/lib/python3.7/dist-packages/keras/optimizer_v2/adam.py:105: UserWarning: The `lr` argument is deprecated, use `learning_rate` instead.\n",
            "  super(Adam, self).__init__(name, **kwargs)\n"
          ]
        }
      ]
    },
    {
      "cell_type": "code",
      "source": [
        "batch_size = 30\n",
        "epochs = 25\n",
        "\n",
        "callbacks_list = [\n",
        "    keras.callbacks.ModelCheckpoint(\n",
        "        filepath='model3.h5',\n",
        "        monitor='val_loss', save_best_only=True, verbose=1),\n",
        "    keras.callbacks.EarlyStopping(monitor='val_loss', patience=10,verbose=1)\n",
        "]\n",
        "\n",
        "history = model.fit(x_train, y_train,\n",
        "                    batch_size=batch_size,\n",
        "                    epochs=epochs,\n",
        "                    callbacks = callbacks_list,\n",
        "                    verbose=1,\n",
        "                    validation_data=(x_val, y_val))"
      ],
      "metadata": {
        "colab": {
          "base_uri": "https://localhost:8080/"
        },
        "id": "-0gjQdTkdNSI",
        "outputId": "a6377072-517e-4b8c-b2e6-fc68a9e96d43"
      },
      "execution_count": null,
      "outputs": [
        {
          "output_type": "stream",
          "name": "stdout",
          "text": [
            "Epoch 1/25\n",
            "735/735 [==============================] - ETA: 0s - loss: 0.7110 - accuracy: 0.5914\n",
            "Epoch 1: val_loss improved from inf to 0.31154, saving model to model3.h5\n",
            "735/735 [==============================] - 486s 659ms/step - loss: 0.7110 - accuracy: 0.5914 - val_loss: 0.3115 - val_accuracy: 0.9084\n",
            "Epoch 2/25\n",
            "735/735 [==============================] - ETA: 0s - loss: 0.2588 - accuracy: 0.9277\n",
            "Epoch 2: val_loss improved from 0.31154 to 0.18313, saving model to model3.h5\n",
            "735/735 [==============================] - 488s 663ms/step - loss: 0.2588 - accuracy: 0.9277 - val_loss: 0.1831 - val_accuracy: 0.9458\n",
            "Epoch 3/25\n",
            "735/735 [==============================] - ETA: 0s - loss: 0.1792 - accuracy: 0.9463\n",
            "Epoch 3: val_loss did not improve from 0.18313\n",
            "735/735 [==============================] - 486s 661ms/step - loss: 0.1792 - accuracy: 0.9463 - val_loss: 0.1891 - val_accuracy: 0.9478\n",
            "Epoch 4/25\n",
            "735/735 [==============================] - ETA: 0s - loss: 0.1583 - accuracy: 0.9520\n",
            "Epoch 4: val_loss improved from 0.18313 to 0.16881, saving model to model3.h5\n",
            "735/735 [==============================] - 486s 662ms/step - loss: 0.1583 - accuracy: 0.9520 - val_loss: 0.1688 - val_accuracy: 0.9532\n",
            "Epoch 5/25\n",
            "735/735 [==============================] - ETA: 0s - loss: 0.1532 - accuracy: 0.9533\n",
            "Epoch 5: val_loss did not improve from 0.16881\n",
            "735/735 [==============================] - 486s 661ms/step - loss: 0.1532 - accuracy: 0.9533 - val_loss: 0.1731 - val_accuracy: 0.9505\n",
            "Epoch 6/25\n",
            "735/735 [==============================] - ETA: 0s - loss: 0.1436 - accuracy: 0.9550\n",
            "Epoch 6: val_loss improved from 0.16881 to 0.15217, saving model to model3.h5\n",
            "735/735 [==============================] - 479s 652ms/step - loss: 0.1436 - accuracy: 0.9550 - val_loss: 0.1522 - val_accuracy: 0.9556\n",
            "Epoch 7/25\n",
            "735/735 [==============================] - ETA: 0s - loss: 0.1291 - accuracy: 0.9580\n",
            "Epoch 7: val_loss did not improve from 0.15217\n",
            "735/735 [==============================] - 480s 652ms/step - loss: 0.1291 - accuracy: 0.9580 - val_loss: 0.1858 - val_accuracy: 0.9550\n",
            "Epoch 8/25\n",
            "735/735 [==============================] - ETA: 0s - loss: 0.1213 - accuracy: 0.9614\n",
            "Epoch 8: val_loss did not improve from 0.15217\n",
            "735/735 [==============================] - 480s 653ms/step - loss: 0.1213 - accuracy: 0.9614 - val_loss: 0.1732 - val_accuracy: 0.9583\n",
            "Epoch 9/25\n",
            "735/735 [==============================] - ETA: 0s - loss: 0.1097 - accuracy: 0.9635\n",
            "Epoch 9: val_loss did not improve from 0.15217\n",
            "735/735 [==============================] - 481s 654ms/step - loss: 0.1097 - accuracy: 0.9635 - val_loss: 0.1614 - val_accuracy: 0.9545\n",
            "Epoch 10/25\n",
            "735/735 [==============================] - ETA: 0s - loss: 0.1017 - accuracy: 0.9659\n",
            "Epoch 10: val_loss did not improve from 0.15217\n",
            "735/735 [==============================] - 481s 654ms/step - loss: 0.1017 - accuracy: 0.9659 - val_loss: 0.2096 - val_accuracy: 0.9534\n",
            "Epoch 11/25\n",
            "735/735 [==============================] - ETA: 0s - loss: 0.0933 - accuracy: 0.9680\n",
            "Epoch 11: val_loss did not improve from 0.15217\n",
            "735/735 [==============================] - 480s 653ms/step - loss: 0.0933 - accuracy: 0.9680 - val_loss: 0.1637 - val_accuracy: 0.9556\n",
            "Epoch 12/25\n",
            "735/735 [==============================] - ETA: 0s - loss: 0.0909 - accuracy: 0.9695\n",
            "Epoch 12: val_loss did not improve from 0.15217\n",
            "735/735 [==============================] - 480s 652ms/step - loss: 0.0909 - accuracy: 0.9695 - val_loss: 0.1967 - val_accuracy: 0.9507\n",
            "Epoch 13/25\n",
            "735/735 [==============================] - ETA: 0s - loss: 0.0829 - accuracy: 0.9725\n",
            "Epoch 13: val_loss did not improve from 0.15217\n",
            "735/735 [==============================] - 480s 654ms/step - loss: 0.0829 - accuracy: 0.9725 - val_loss: 0.2094 - val_accuracy: 0.9541\n",
            "Epoch 14/25\n",
            "735/735 [==============================] - ETA: 0s - loss: 0.0729 - accuracy: 0.9759\n",
            "Epoch 14: val_loss did not improve from 0.15217\n",
            "735/735 [==============================] - 479s 652ms/step - loss: 0.0729 - accuracy: 0.9759 - val_loss: 0.3220 - val_accuracy: 0.9499\n",
            "Epoch 15/25\n",
            "735/735 [==============================] - ETA: 0s - loss: 0.0695 - accuracy: 0.9770\n",
            "Epoch 15: val_loss did not improve from 0.15217\n",
            "735/735 [==============================] - 479s 651ms/step - loss: 0.0695 - accuracy: 0.9770 - val_loss: 0.2508 - val_accuracy: 0.9546\n",
            "Epoch 16/25\n",
            "735/735 [==============================] - ETA: 0s - loss: 0.0648 - accuracy: 0.9779\n",
            "Epoch 16: val_loss did not improve from 0.15217\n",
            "735/735 [==============================] - 480s 653ms/step - loss: 0.0648 - accuracy: 0.9779 - val_loss: 0.2346 - val_accuracy: 0.9556\n",
            "Epoch 16: early stopping\n"
          ]
        }
      ]
    },
    {
      "cell_type": "code",
      "source": [
        "fig, ax = plt.subplots(1,2, figsize=(16,8))\n",
        "ax[0].plot(history.history['loss'], color='b', label=\"Training loss\")\n",
        "ax[0].plot(history.history['val_loss'], color='r', label=\"validation loss\",axes =ax[0])\n",
        "legend = ax[0].legend(loc='best', shadow=True)\n",
        "\n",
        "ax[1].plot(history.history['accuracy'], color='b', label=\"Training accuracy\")\n",
        "ax[1].plot(history.history['val_accuracy'], color='r',label=\"Validation accuracy\")\n",
        "legend = ax[1].legend(loc='best', shadow=True)"
      ],
      "metadata": {
        "colab": {
          "base_uri": "https://localhost:8080/",
          "height": 483
        },
        "id": "6pSAhAifkJ5k",
        "outputId": "3095d16b-fd20-42e4-d547-d2de01537f23"
      },
      "execution_count": null,
      "outputs": [
        {
          "output_type": "display_data",
          "data": {
            "text/plain": [
              "<Figure size 1152x576 with 2 Axes>"
            ],
            "image/png": "[encoded data removed]"
          },
          "metadata": {
            "needs_background": "light"
          }
        }
      ]
    },
    {
      "cell_type": "code",
      "source": [
        "from tensorflow.keras.models import load_model\n",
        "\n",
        "model = load_model('model3.h5')"
      ],
      "metadata": {
        "id": "zg4tG1k-kNvn"
      },
      "execution_count": null,
      "outputs": []
    },
    {
      "cell_type": "code",
      "source": [
        "score = model.evaluate(x_val, y_val, verbose=0)\n",
        "print('Test loss:', score[0])\n",
        "print('Test accuracy:', score[1])"
      ],
      "metadata": {
        "colab": {
          "base_uri": "https://localhost:8080/"
        },
        "id": "pmPlv6q2kQ8t",
        "outputId": "4e99a803-0a17-418d-e6cc-4ddc9c9869f8"
      },
      "execution_count": null,
      "outputs": [
        {
          "output_type": "stream",
          "name": "stdout",
          "text": [
            "Test loss: 0.15217295289039612\n",
            "Test accuracy: 0.9555515050888062\n"
          ]
        }
      ]
    },
    {
      "cell_type": "code",
      "source": [
        "import itertools\n",
        "\n",
        "def plot_confusion_matrix(cm, classes, normalize=True, title='Confusion matrix', cmap=plt.cm.Blues):\n",
        "    \"\"\"\n",
        "    This function prints and plots the confusion matrix.\n",
        "    Normalization can be applied by setting `normalize=True`.\n",
        "    \"\"\"\n",
        "    plt.figure(figsize=(10,10))\n",
        "    plt.imshow(cm, interpolation='nearest', cmap=cmap)\n",
        "    plt.title(title)\n",
        "    plt.colorbar()\n",
        "    tick_marks = np.arange(len(classes))\n",
        "    plt.xticks(tick_marks, classes, rotation=45)\n",
        "    plt.yticks(tick_marks, classes)\n",
        "    if normalize:\n",
        "        cm = cm.astype('float') / cm.sum(axis=1)[:, np.newaxis]\n",
        "        cm = np.around(cm, decimals=2)\n",
        "        cm[np.isnan(cm)] = 0.0\n",
        "    thresh = cm.max() / 2.\n",
        "    for i, j in itertools.product(range(cm.shape[0]), range(cm.shape[1])):\n",
        "        plt.text(j, i, cm[i, j],\n",
        "                 horizontalalignment=\"center\",\n",
        "                 color=\"white\" if cm[i, j] > thresh else \"black\")\n",
        "    plt.tight_layout()\n",
        "    plt.ylabel('True label')\n",
        "    plt.xlabel('Predicted label')"
      ],
      "metadata": {
        "id": "r4xQbRs6cFq4"
      },
      "execution_count": null,
      "outputs": []
    },
    {
      "cell_type": "code",
      "source": [
        "import numpy as np\n",
        "from sklearn.metrics import classification_report\n",
        "from sklearn.metrics import confusion_matrix\n",
        "\n",
        "y_pred = (model.predict(x_val) > 0.5).astype(\"int32\")\n",
        "\n",
        "y_test_c = np.argmax(y_val, axis=1)\n",
        "target_names = [\"Uninfected\", \"Parasited\"]\n",
        "\n",
        "Y_pred = np.argmax(model.predict(x_val),axis=1)\n",
        "print('Confusion Matrix')\n",
        "cm =confusion_matrix(y_test_c, Y_pred)\n",
        "plot_confusion_matrix(cm, target_names, normalize=False, title='Confusion Matrix')\n",
        "\n",
        "print('Classification Report')\n",
        "print(classification_report(y_test_c, Y_pred, target_names=target_names))"
      ],
      "metadata": {
        "colab": {
          "base_uri": "https://localhost:8080/",
          "height": 916
        },
        "id": "bFUDKgpLkYJ5",
        "outputId": "84b696fc-701d-4e86-e16e-0e2fc5f7a3a3"
      },
      "execution_count": null,
      "outputs": [
        {
          "output_type": "stream",
          "name": "stdout",
          "text": [
            "Confusion Matrix\n",
            "Classification Report\n",
            "              precision    recall  f1-score   support\n",
            "\n",
            "  Uninfected       0.97      0.94      0.96      2785\n",
            "   Parasited       0.94      0.97      0.96      2727\n",
            "\n",
            "    accuracy                           0.96      5512\n",
            "   macro avg       0.96      0.96      0.96      5512\n",
            "weighted avg       0.96      0.96      0.96      5512\n",
            "\n"
          ]
        },
        {
          "output_type": "display_data",
          "data": {
            "text/plain": [
              "<Figure size 720x720 with 2 Axes>"
            ],
            "image/png": "[encoded data removed]"
          },
          "metadata": {
            "needs_background": "light"
          }
        }
      ]
    }
  ]
}